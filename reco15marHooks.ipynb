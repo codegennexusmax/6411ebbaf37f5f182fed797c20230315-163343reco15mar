{
 "cells": [
  {
   "cell_type": "markdown",
   "id": "950638a6",
   "metadata": {},
   "source": [
    "***EXTENSIONS FOR reco15mar PIPELINE YOU CAN EDIT THESE EXTENSIONS***"
   ]
  },
  {
   "cell_type": "markdown",
   "id": "bcfec247",
   "metadata": {},
   "source": [
    "***EXTENSIONS FOR SOURCE STAGE***"
   ]
  },
  {
   "cell_type": "code",
   "execution_count": null,
   "id": "9a219c37",
   "metadata": {},
   "outputs": [],
   "source": [
    "def sourcePreExecutionHook():\n",
    "\tprint('inside source pre execution hook')\n",
    "\n",
    "\n",
    "def sourcePostExecutionHook(data):\n",
    "\tprint('inside source post execution hook')\n",
    "\n",
    "\n"
   ]
  },
  {
   "cell_type": "markdown",
   "id": "a13371e3",
   "metadata": {},
   "source": [
    "***EXTENSIONS FOR ML STAGE***"
   ]
  },
  {
   "cell_type": "code",
   "execution_count": null,
   "id": "e2a8a79f",
   "metadata": {},
   "outputs": [],
   "source": [
    "def mlPreExecutionHook():\n",
    "\tprint('inside ml pre execution hook')\n",
    "\n",
    "\n",
    "def mlPostExecutionHook(data):\n",
    "\tprint('inside ml post execution hook')\n",
    "\n",
    "\n"
   ]
  }
 ],
 "metadata": {},
 "nbformat": 4,
 "nbformat_minor": 5
}
